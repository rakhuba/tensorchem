{
 "cells": [
  {
   "cell_type": "code",
   "execution_count": 1,
   "metadata": {
    "collapsed": false
   },
   "outputs": [
    {
     "name": "stderr",
     "output_type": "stream",
     "text": [
      "Vendor:  Continuum Analytics, Inc.\n",
      "Package: mkl\n",
      "Message: trial mode expires in 29 days\n",
      "openbabel not found in path, switching to PyQuante backend\n",
      "libint extension not found, switching to normal ERI computation\n"
     ]
    }
   ],
   "source": [
    "%matplotlib inline\n",
    "from solvers import solver\n",
    "import numpy as np\n",
    "import qtools as qt\n",
    "import tucker3d as tuck"
   ]
  },
  {
   "cell_type": "code",
   "execution_count": 2,
   "metadata": {
    "collapsed": false
   },
   "outputs": [
    {
     "name": "stdout",
     "output_type": "stream",
     "text": [
      "SCF iteration - done\n",
      "0.00812101364136\n",
      "(3, 3, 3)\n",
      "Iteration 0 accuracy = 2.70e-02\n",
      "Iteration 1 accuracy = 2.35e-02\n",
      "Iteration 2 accuracy = 2.31e-03\n",
      "Iteration 3 accuracy = 3.56e-03\n",
      "Iteration 4 accuracy = 2.13e-03\n",
      "Iteration 5 accuracy = 4.21e-04\n",
      "Iteration 6 accuracy = 1.30e-04\n",
      "Iteration 7 accuracy = 1.08e-04\n",
      "Iteration 8 accuracy = 2.48e-05\n",
      "Iteration 9 accuracy = 7.65e-06\n",
      "Iteration 10 accuracy = 7.68e-06\n",
      "Iteration 11 accuracy = 1.71e-06\n",
      "Iteration 12 accuracy = 1.85e-06\n",
      "Process converged with 12 iterations\n",
      "Full energy =  -2.86057539624\n",
      "-2.86057539624\n"
     ]
    },
    {
     "name": "stderr",
     "output_type": "stream",
     "text": [
      "solvers/pyquante.py:47: ComplexWarning: Casting complex values to real discards the imaginary part\n",
      "  psi[i] = gto2tuck(w, cf[:,i], x, eps)\n"
     ]
    }
   ],
   "source": [
    "name = 'He'\n",
    "molecule = qt.molecule(name)\n",
    "\n",
    "\n",
    "sol = solver(molecule, method='hf', mixing=5, eps=1e-5,\n",
    "            maxiter=60, meshsize=1024, boxsize=10.)\n",
    "sol.solve()\n",
    "print sol.energy"
   ]
  }
 ],
 "metadata": {
  "kernelspec": {
   "display_name": "Python 2",
   "language": "python",
   "name": "python2"
  },
  "language_info": {
   "codemirror_mode": {
    "name": "ipython",
    "version": 2
   },
   "file_extension": ".py",
   "mimetype": "text/x-python",
   "name": "python",
   "nbconvert_exporter": "python",
   "pygments_lexer": "ipython2",
   "version": "2.7.9"
  }
 },
 "nbformat": 4,
 "nbformat_minor": 0
}
