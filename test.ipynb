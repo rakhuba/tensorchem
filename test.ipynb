{
 "cells": [
  {
   "cell_type": "code",
   "execution_count": 2,
   "metadata": {
    "collapsed": false
   },
   "outputs": [
    {
     "name": "stderr",
     "output_type": "stream",
     "text": [
      "Vendor:  Continuum Analytics, Inc.\n",
      "Package: mkl\n",
      "Message: trial mode expires in 28 days\n",
      "openbabel not found in path, switching to PyQuante backend\n",
      "libint extension not found, switching to normal ERI computation\n"
     ]
    }
   ],
   "source": [
    "%matplotlib inline\n",
    "from solvers import solver\n",
    "import numpy as np\n",
    "import qtools as qt\n",
    "import tucker3d as tuck"
   ]
  },
  {
   "cell_type": "code",
   "execution_count": 17,
   "metadata": {
    "collapsed": false,
    "scrolled": true
   },
   "outputs": [
    {
     "name": "stdout",
     "output_type": "stream",
     "text": [
      "SCF iteration - done\n",
      "0.0197141170502\n",
      "(6, 6, 6)\n",
      "Iteration 0 accuracy = 1.31e-02\n",
      "Iteration 1 accuracy = 1.30e-02\n",
      "Iteration 2 accuracy = 3.12e-03\n",
      "Iteration 3 accuracy = 3.21e-04\n",
      "Iteration 4 accuracy = 5.06e-04\n",
      "Iteration 5 accuracy = 1.69e-04\n",
      "Iteration 6 accuracy = 8.45e-06\n",
      "Iteration 7 accuracy = 1.66e-05\n",
      "Iteration 8 accuracy = 7.80e-06\n",
      "Iteration 9 accuracy = 1.23e-06\n",
      "Iteration 10 accuracy = 4.13e-07\n",
      "Iteration 11 accuracy = 3.09e-07\n",
      "Iteration 12 accuracy = 7.59e-08\n",
      "Iteration 13 accuracy = 6.02e-09\n",
      "Iteration 14 accuracy = 1.15e-08\n",
      "Iteration 15 accuracy = 3.98e-09\n",
      "Iteration 16 accuracy = 2.68e-10\n",
      "Iteration 17 accuracy = 3.57e-10\n",
      "Iteration 18 accuracy = 1.74e-10\n",
      "Iteration 19 accuracy = 3.13e-11\n",
      "Iteration 20 accuracy = 1.23e-11\n",
      "Iteration 21 accuracy = 4.60e-12\n",
      "Iteration 22 accuracy = 1.01e-11\n",
      "Iteration 23 accuracy = 5.98e-12\n",
      "Iteration 24 accuracy = 1.67e-11\n",
      "Iteration 25 accuracy = 1.49e-11\n",
      "Iteration 26 accuracy = 4.21e-13\n",
      "Iteration 27 accuracy = 1.73e-12\n",
      "Process converged with 27 iterations\n",
      "Full energy =  -1.13359790623\n",
      "[]\n",
      "SCF iteration - done\n",
      "0.0106320381165\n",
      "(6, 6, 6)\n",
      "Iteration 0 accuracy = 1.31e-02\n",
      "Iteration 1 accuracy = 1.30e-02\n",
      "Iteration 2 accuracy = 3.11e-03\n",
      "Iteration 3 accuracy = 3.22e-04\n",
      "Iteration 4 accuracy = 5.07e-04\n",
      "Iteration 5 accuracy = 1.69e-04\n",
      "Iteration 6 accuracy = 8.41e-06\n",
      "Iteration 7 accuracy = 1.66e-05\n",
      "Iteration 8 accuracy = 7.80e-06\n",
      "Iteration 9 accuracy = 1.23e-06\n",
      "Iteration 10 accuracy = 4.13e-07\n",
      "Iteration 11 accuracy = 3.09e-07\n",
      "Iteration 12 accuracy = 7.58e-08\n",
      "Iteration 13 accuracy = 6.04e-09\n",
      "Iteration 14 accuracy = 1.15e-08\n",
      "Iteration 15 accuracy = 3.98e-09\n",
      "Iteration 16 accuracy = 2.74e-10\n",
      "Iteration 17 accuracy = 3.65e-10\n",
      "Iteration 18 accuracy = 1.70e-10\n",
      "Iteration 19 accuracy = 3.06e-11\n",
      "Iteration 20 accuracy = 4.21e-12\n",
      "Iteration 21 accuracy = 3.63e-12\n",
      "Iteration 22 accuracy = 1.47e-11\n",
      "Iteration 23 accuracy = 1.14e-13\n",
      "Iteration 24 accuracy = 7.63e-12\n",
      "Process converged with 24 iterations\n",
      "Full energy =  -1.13362383592\n",
      "[]\n",
      "SCF iteration - done\n",
      "0.00541305541992\n",
      "(6, 6, 6)\n",
      "Iteration 0 accuracy = 1.31e-02\n",
      "Iteration 1 accuracy = 1.30e-02\n",
      "Iteration 2 accuracy = 3.11e-03\n",
      "Iteration 3 accuracy = 3.23e-04\n",
      "Iteration 4 accuracy = 5.07e-04\n",
      "Iteration 5 accuracy = 1.69e-04\n",
      "Iteration 6 accuracy = 8.41e-06\n",
      "Iteration 7 accuracy = 1.66e-05\n",
      "Iteration 8 accuracy = 7.80e-06\n",
      "Iteration 9 accuracy = 1.23e-06\n",
      "Iteration 10 accuracy = 4.14e-07\n",
      "Iteration 11 accuracy = 3.09e-07\n",
      "Iteration 12 accuracy = 7.58e-08\n",
      "Iteration 13 accuracy = 6.05e-09\n",
      "Iteration 14 accuracy = 1.15e-08\n",
      "Iteration 15 accuracy = 3.97e-09\n",
      "Iteration 16 accuracy = 2.68e-10\n",
      "Iteration 17 accuracy = 3.62e-10\n",
      "Iteration 18 accuracy = 1.66e-10\n",
      "Iteration 19 accuracy = 2.86e-11\n",
      "Iteration 20 accuracy = 1.40e-11\n",
      "Iteration 21 accuracy = 5.90e-14\n",
      "Iteration 22 accuracy = 1.66e-11\n",
      "Iteration 23 accuracy = 1.08e-11\n",
      "Iteration 24 accuracy = 6.99e-12\n",
      "Iteration 25 accuracy = 1.05e-11\n",
      "Iteration 26 accuracy = 5.77e-12\n",
      "Iteration 27 accuracy = 4.43e-12\n",
      "Process converged with 27 iterations\n",
      "Full energy =  -1.13362665782\n",
      "[]\n",
      "SCF iteration - done\n",
      "0.00711703300476\n",
      "(6, 6, 6)\n",
      "Iteration 0 accuracy = 1.31e-02\n",
      "Iteration 1 accuracy = 1.30e-02\n",
      "Iteration 2 accuracy = 3.11e-03\n",
      "Iteration 3 accuracy = 3.23e-04\n",
      "Iteration 4 accuracy = 5.07e-04\n",
      "Iteration 5 accuracy = 1.69e-04\n",
      "Iteration 6 accuracy = 8.40e-06\n",
      "Iteration 7 accuracy = 1.66e-05\n",
      "Iteration 8 accuracy = 7.80e-06\n",
      "Iteration 9 accuracy = 1.23e-06\n",
      "Iteration 10 accuracy = 4.14e-07\n",
      "Iteration 11 accuracy = 3.09e-07\n",
      "Iteration 12 accuracy = 7.58e-08\n",
      "Iteration 13 accuracy = 6.04e-09\n",
      "Iteration 14 accuracy = 1.15e-08\n",
      "Iteration 15 accuracy = 3.99e-09\n",
      "Iteration 16 accuracy = 2.59e-10\n",
      "Iteration 17 accuracy = 3.57e-10\n",
      "Iteration 18 accuracy = 1.71e-10\n",
      "Iteration 19 accuracy = 1.97e-11\n",
      "Iteration 20 accuracy = 3.76e-12\n",
      "Iteration 21 accuracy = 2.89e-12\n",
      "Iteration 22 accuracy = 8.90e-12\n",
      "Iteration 23 accuracy = 5.67e-12\n",
      "Process converged with 23 iterations\n",
      "Full energy =  -1.13362890476\n",
      "[]\n"
     ]
    }
   ],
   "source": [
    "name = 'H2'\n",
    "molecule = qt.molecule(name)\n",
    "\n",
    "gradients_005 = []\n",
    "gradients_01 = []\n",
    "gradients_02 = []\n",
    "gradients_03 = []\n",
    "gradients_05 = []\n",
    "sols = []\n",
    "for n in [2**11, 2**12, 2**13, 2**14]:\n",
    "    sol = solver(molecule, method='hf', mixing=2, eps=1e-11,\n",
    "                 maxiter=60, meshsize=n, boxsize=12.0)\n",
    "    \n",
    "    sol.solve()\n",
    "    gradients_005.append(gradient_diatomic(sol, smoothing=0.005))\n",
    "    gradients_01.append(gradient_diatomic(sol, smoothing=0.01))\n",
    "    gradients_02.append(gradient_diatomic(sol, smoothing=0.02))\n",
    "    gradients_03.append(gradient_diatomic(sol, smoothing=0.03))\n",
    "    gradients_05.append(gradient_diatomic(sol, smoothing=0.05))\n",
    "    \n",
    "    print gradients"
   ]
  },
  {
   "cell_type": "code",
   "execution_count": 18,
   "metadata": {
    "collapsed": false
   },
   "outputs": [
    {
     "name": "stdout",
     "output_type": "stream",
     "text": [
      "[(-0.008630454311897684+0j), (-0.0039147004959592113+0j), (-0.0054355179647423979+0j), (-0.0053909277324910576+0j)]\n",
      "[(-0.012554897329275949+0j), (-0.0053293286139687313+0j), (-0.0053910828580464587+0j), (-0.0053908552800010501+0j)]\n",
      "[(-0.0057241142278958712+0j), (-0.0053919304136270663+0j), (-0.0053908899668183574+0j), (-0.0053906296612981075+0j)]\n",
      "[(-0.0054103746808907838+0j), (-0.0053922927135598986+0j), (-0.0053902953560241995+0j), (-0.0053905838102741299+0j)]\n",
      "[(-0.0054030852009102626+0j), (-0.0053919112968487948+0j), (-0.0053912818647459115+0j), (-0.0053906743733432849+0j)]\n"
     ]
    }
   ],
   "source": [
    "print gradients_005\n",
    "print gradients_01\n",
    "print gradients_02\n",
    "print gradients_03\n",
    "print gradients_05"
   ]
  },
  {
   "cell_type": "code",
   "execution_count": 19,
   "metadata": {
    "collapsed": false
   },
   "outputs": [
    {
     "name": "stdout",
     "output_type": "stream",
     "text": [
      "-0.005391244292\n"
     ]
    }
   ],
   "source": [
    "def aitken(a2, a1, a0):\n",
    "    return a2 - (a2-a1)**2/(a2-2*a1+a0)\n",
    "\n",
    "print aitken(-0.005391281864745, -0.005391911296848, -0.0054030852009102)"
   ]
  },
  {
   "cell_type": "code",
   "execution_count": 16,
   "metadata": {
    "collapsed": false
   },
   "outputs": [
    {
     "name": "stdout",
     "output_type": "stream",
     "text": [
      "[(0.013611258586343822+0j), (0.01834078461823474+0j), (0.016818663663885292+0j), (0.016863542738754123+0j)]\n",
      "[(0.009678550812098119+0j), (0.016924232130068051+0j), (0.016863169364275121+0j), (0.016863614213515843+0j)]\n",
      "[(0.016525329371806674+0j), (0.016861598808606437+0j), (0.016863362213528632+0j), (0.016863839950110759+0j)]\n",
      "[(0.016839854768045392+0j), (0.016861233749823568+0j), (0.016863957803458673+0j), (0.01686388528247118+0j)]\n",
      "[(0.016847154796587716+0j), (0.016861612600190978+0j), (0.016862966227996601+0j), (0.016863791472206624+0j)]\n"
     ]
    }
   ],
   "source": [
    "print gradients_005\n",
    "print gradients_01\n",
    "print gradients_02\n",
    "print gradients_03\n",
    "print gradients_05"
   ]
  },
  {
   "cell_type": "code",
   "execution_count": 9,
   "metadata": {
    "collapsed": false
   },
   "outputs": [
    {
     "data": {
      "text/plain": [
       "(0.01686347827421647+0j)"
      ]
     },
     "execution_count": 9,
     "metadata": {},
     "output_type": "execute_result"
    }
   ],
   "source": [
    "gradient_diatomic(sol, smoothing=0.01)"
   ]
  },
  {
   "cell_type": "code",
   "execution_count": 12,
   "metadata": {
    "collapsed": false
   },
   "outputs": [
    {
     "data": {
      "text/plain": [
       "(0.016863284839337245+0j)"
      ]
     },
     "execution_count": 12,
     "metadata": {},
     "output_type": "execute_result"
    }
   ],
   "source": [
    "gradient_diatomic(sol, smoothing=0.005)"
   ]
  },
  {
   "cell_type": "code",
   "execution_count": 33,
   "metadata": {
    "collapsed": false
   },
   "outputs": [],
   "source": [
    "from PyQuante.Molecule import Molecule\n",
    "from PyQuante.dft import dft\n",
    "h2 = Molecule('h2',[(1,(0,0,0)),(1,(1.4,0,0))])"
   ]
  },
  {
   "cell_type": "code",
   "execution_count": 35,
   "metadata": {
    "collapsed": false
   },
   "outputs": [
    {
     "name": "stdout",
     "output_type": "stream",
     "text": [
      "Final LDA energy for system h2 is -1.135372\n"
     ]
    }
   ],
   "source": [
    "en,orbe,orbs = dft(h2,functional='LDA')"
   ]
  },
  {
   "cell_type": "code",
   "execution_count": null,
   "metadata": {
    "collapsed": true
   },
   "outputs": [],
   "source": []
  },
  {
   "cell_type": "code",
   "execution_count": 8,
   "metadata": {
    "collapsed": false
   },
   "outputs": [
    {
     "data": {
      "text/plain": [
       "(0.016863768003298751+0j)"
      ]
     },
     "execution_count": 8,
     "metadata": {},
     "output_type": "execute_result"
    }
   ],
   "source": [
    "gradient_diatomic(sol, smoothing=0.2)"
   ]
  },
  {
   "cell_type": "code",
   "execution_count": 14,
   "metadata": {
    "collapsed": false
   },
   "outputs": [
    {
     "data": {
      "text/plain": [
       "(0.00070546547821748185+0j)"
      ]
     },
     "execution_count": 14,
     "metadata": {},
     "output_type": "execute_result"
    }
   ],
   "source": [
    "2*a - b"
   ]
  },
  {
   "cell_type": "code",
   "execution_count": 4,
   "metadata": {
    "collapsed": false
   },
   "outputs": [
    {
     "data": {
      "text/plain": [
       "(-0.0060777468614038321+0j)"
      ]
     },
     "execution_count": 4,
     "metadata": {},
     "output_type": "execute_result"
    }
   ],
   "source": [
    "2*a - b"
   ]
  },
  {
   "cell_type": "code",
   "execution_count": 16,
   "metadata": {
    "collapsed": false
   },
   "outputs": [],
   "source": [
    "x = sol.params.grid"
   ]
  },
  {
   "cell_type": "code",
   "execution_count": 17,
   "metadata": {
    "collapsed": false
   },
   "outputs": [
    {
     "data": {
      "text/plain": [
       "0.99999476156725564"
      ]
     },
     "execution_count": 17,
     "metadata": {},
     "output_type": "execute_result"
    }
   ],
   "source": [
    "tuck.dot(sol.rho, tuck.ones(sol.rho.n))*(x[1]-x[0])**3"
   ]
  },
  {
   "cell_type": "code",
   "execution_count": 4,
   "metadata": {
    "collapsed": false
   },
   "outputs": [],
   "source": [
    "from scipy.special import erf\n",
    "\n",
    "def gradient_diatomic(self, smoothing=0.01):\n",
    "\n",
    "        # pot squared\n",
    "        #tensor_x = charge*tuck.round(vec[0]*tuck.ones((N, N, N)) - tensor_x, self.params.eps)\n",
    "        #qt.pots.coulomb(x, vec, self.params.ind, self.params.eps, beta=3.0)\n",
    "        #d_coulomb -= tuck.cross.multifun([tensor_x, pot_squared], self.params.eps, lambda x: x[0]*x[1])\n",
    "\n",
    "        molecule = self.molecule\n",
    "        x = self.params.grid\n",
    "        h = x[1] - x[0]\n",
    "        N = len(self.params.grid)\n",
    "        Norb = self.molecule.orbitals\n",
    "        num_atoms = self.molecule.num_atoms\n",
    "        \n",
    "        i = 0\n",
    "        vec = molecule.atoms[i].rad\n",
    "        charge = molecule.atoms[i].charge\n",
    "        def fun_coulomb_squared((i, j, k)):\n",
    "            r = np.sqrt((vec[0] - x[i])**2 + (vec[1] - x[j])**2 + (vec[2] - x[k])**2)\n",
    "            return charge*(x[i] - vec[0]) / r * (-smoothed_coulomb_derivative(r/smoothing))/smoothing**2\n",
    "        d_coulomb = tuck.cross.cross3d(fun_coulomb_squared, N, self.params.eps)\n",
    "        d_coulomb = tuck.round(d_coulomb, self.params.eps)\n",
    "        \n",
    "\n",
    "        self.get_rho()\n",
    "        \n",
    "        dE_nuc = 0.0\n",
    "        j = 1\n",
    "        i = 0\n",
    "        vec_i = molecule.atoms[i].rad\n",
    "        charge_i = molecule.atoms[i].charge\n",
    "        vec_j = molecule.atoms[j].rad\n",
    "        charge_j = molecule.atoms[j].charge\n",
    "        dE_nuc = (dE_nuc + (vec_i[0] - vec_j[0])*charge_i*charge_j/\n",
    "                  np.sqrt((vec_i[0] - vec_j[0])**2 + (vec_i[1] - vec_j[1])**2 + (vec_i[2] - vec_j[2])**2)**3)\n",
    "\n",
    "\n",
    "        return tuck.dot(d_coulomb, 2*self.rho)*(x[1]-x[0])**3 + dE_nuc\n",
    "    \n",
    "def smoothed_coulomb_derivative(r):\n",
    "        if r>=6:\n",
    "            return -1.0/r**2\n",
    "        elif r<6 and r>=0.1:\n",
    "            return 2*np.exp(-r**2)/np.sqrt(np.pi)/r - erf(r)/r**2 - 1.0/3/np.sqrt(np.pi) * (2*r*np.exp(-r**2) + 128*r*np.exp(-4*r**2))\n",
    "        else:\n",
    "            return -4.0/3*r + 4.0/5*r**3 - 2.0/7*r**5 + 2.0/27*r**7 - 1.0/66*r**9 - 1.0/3/np.sqrt(np.pi) * (2*r*np.exp(-r**2) + 128*r*np.exp(-4*r**2))"
   ]
  },
  {
   "cell_type": "code",
   "execution_count": 17,
   "metadata": {
    "collapsed": false
   },
   "outputs": [],
   "source": [
    "from scipy.special import erf\n",
    "\n",
    "def gradient_diatomic(self, smoothing=0.01):\n",
    "\n",
    "        # pot squared\n",
    "        #tensor_x = charge*tuck.round(vec[0]*tuck.ones((N, N, N)) - tensor_x, self.params.eps)\n",
    "        #qt.pots.coulomb(x, vec, self.params.ind, self.params.eps, beta=3.0)\n",
    "        #d_coulomb -= tuck.cross.multifun([tensor_x, pot_squared], self.params.eps, lambda x: x[0]*x[1])\n",
    "\n",
    "        molecule = self.molecule\n",
    "        x = self.params.grid\n",
    "        h = x[1] - x[0]\n",
    "        N = len(self.params.grid)\n",
    "        Norb = self.molecule.orbitals\n",
    "        num_atoms = self.molecule.num_atoms\n",
    "        \n",
    "        i = 0\n",
    "        vec = molecule.atoms[i].rad\n",
    "        charge = molecule.atoms[i].charge\n",
    "        def fun_coulomb_squared((i, j, k)):\n",
    "            r = np.sqrt((vec[0] - x[i])**2 + (vec[1] - x[j])**2 + (vec[2] - x[k])**2)\n",
    "            return charge*(x[i] - vec[0]) / r * (-smoothed_coulomb_derivative(r/smoothing))/smoothing**2\n",
    "        d_coulomb = tuck.cross.cross3d(fun_coulomb_squared, N, self.params.eps)\n",
    "        d_coulomb = tuck.round(d_coulomb, self.params.eps)\n",
    "        \n",
    "\n",
    "        self.get_rho()\n",
    "        \n",
    "        dE_nuc = 0.0\n",
    "        j = 1\n",
    "        i = 0\n",
    "        vec_i = molecule.atoms[i].rad\n",
    "        charge_i = molecule.atoms[i].charge\n",
    "        vec_j = molecule.atoms[j].rad\n",
    "        charge_j = molecule.atoms[j].charge\n",
    "        dE_nuc = (dE_nuc + (vec_i[0] - vec_j[0])*charge_i*charge_j/\n",
    "                  np.sqrt((vec_i[0] - vec_j[0])**2 + (vec_i[1] - vec_j[1])**2 + (vec_i[2] - vec_j[2])**2)**3)\n",
    "\n",
    "\n",
    "        return tuck.dot(d_coulomb, 2*tuck.ones(d_coulomb.n))*(x[1]-x[0])**3 #+ dE_nuc\n",
    "    \n",
    "def smoothed_coulomb_derivative(r):\n",
    "        if r>=6:\n",
    "            return -1.0/r**2\n",
    "        elif r<6 and r>=0.1:\n",
    "            return 2*np.exp(-r**2)/np.sqrt(np.pi)/r - erf(r)/r**2 - 1.0/3/np.sqrt(np.pi) * (2*r*np.exp(-r**2) + 128*r*np.exp(-4*r**2))\n",
    "        else:\n",
    "            return -4.0/3*r + 4.0/5*r**3 - 2.0/7*r**5 + 2.0/27*r**7 - 1.0/66*r**9 - 1.0/3/np.sqrt(np.pi) * (2*r*np.exp(-r**2) + 128*r*np.exp(-4*r**2))"
   ]
  },
  {
   "cell_type": "code",
   "execution_count": 10,
   "metadata": {
    "collapsed": true
   },
   "outputs": [],
   "source": [
    "def gradient_diatomic(self):\n",
    "\n",
    "        # pot squared\n",
    "        #tensor_x = charge*tuck.round(vec[0]*tuck.ones((N, N, N)) - tensor_x, self.params.eps)\n",
    "        #qt.pots.coulomb(x, vec, self.params.ind, self.params.eps, beta=3.0)\n",
    "        #d_coulomb -= tuck.cross.multifun([tensor_x, pot_squared], self.params.eps, lambda x: x[0]*x[1])\n",
    "\n",
    "        molecule = self.molecule\n",
    "        x = self.params.grid\n",
    "        h = x[1] - x[0]\n",
    "        N = len(self.params.grid)\n",
    "        Norb = self.molecule.orbitals\n",
    "        num_atoms = self.molecule.num_atoms\n",
    "\n",
    "        i = 0\n",
    "        vec = molecule.atoms[i].rad\n",
    "        charge = molecule.atoms[i].charge\n",
    "        def fun_coulomb_squared((i, j, k)):\n",
    "            return charge*(x[i] - vec[0]) / np.sqrt((vec[0] - x[i])**2 + (vec[1] - x[j])**2 + (vec[2] - x[k])**2)**(3.0)\n",
    "        d_coulomb = tuck.cross.cross3d(fun_coulomb_squared, N, self.params.eps)\n",
    "        d_coulomb = tuck.round(tuck.real(d_coulomb), self.params.eps)\n",
    "\n",
    "        self.get_rho()\n",
    "        #d_coulomb = tuck.cross.multifun([self.rho, d_coulomb], self.params.eps, lambda x: x[0]*x[1])\n",
    "        \n",
    "        \n",
    "        dE_nuc = 0.0\n",
    "        j = 1\n",
    "        i = 0\n",
    "        vec_i = molecule.atoms[i].rad\n",
    "        charge_i = molecule.atoms[i].charge\n",
    "        vec_j = molecule.atoms[j].rad\n",
    "        charge_j = molecule.atoms[j].charge\n",
    "        dE_nuc = (dE_nuc + (vec_i[0] - vec_j[0])*charge_i*charge_j/\n",
    "                  np.sqrt((vec_i[0] - vec_j[0])**2 + (vec_i[1] - vec_j[1])**2 + (vec_i[2] - vec_j[2])**2)**3)\n",
    "\n",
    "        return tuck.dot(d_coulomb, 2*self.rho)*(x[1]-x[0])**3 + dE_nuc"
   ]
  }
 ],
 "metadata": {
  "kernelspec": {
   "display_name": "Python 2",
   "language": "python",
   "name": "python2"
  },
  "language_info": {
   "codemirror_mode": {
    "name": "ipython",
    "version": 2
   },
   "file_extension": ".py",
   "mimetype": "text/x-python",
   "name": "python",
   "nbconvert_exporter": "python",
   "pygments_lexer": "ipython2",
   "version": "2.7.10"
  }
 },
 "nbformat": 4,
 "nbformat_minor": 0
}
